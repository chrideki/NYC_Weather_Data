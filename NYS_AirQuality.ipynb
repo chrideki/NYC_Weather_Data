{
 "cells": [
  {
   "cell_type": "code",
   "execution_count": 1,
   "id": "329f128c",
   "metadata": {},
   "outputs": [],
   "source": [
    "from bs4 import BeautifulSoup\n",
    "import pandas as pd\n",
    "import requests\n",
    "from datetime import datetime, timedelta"
   ]
  },
  {
   "cell_type": "code",
   "execution_count": 8,
   "id": "50be47c7",
   "metadata": {},
   "outputs": [],
   "source": [
    "today_URL = \"https://extapps.dec.ny.gov/cfmx/extapps/aqi/aqi_forecast.cfm\"\n",
    "today_r = requests.get(today_URL)"
   ]
  },
  {
   "cell_type": "code",
   "execution_count": 3,
   "id": "62baa425",
   "metadata": {},
   "outputs": [],
   "source": [
    "yesterday_URL = \"https://extapps.dec.ny.gov/cfmx/extapps/aqi/observed.cfm\"\n",
    "yesterday_r = requests.get(yesterday_URL)"
   ]
  },
  {
   "cell_type": "code",
   "execution_count": 9,
   "id": "4ea120bf",
   "metadata": {},
   "outputs": [],
   "source": [
    "tsoup = BeautifulSoup(today_r.content, 'html.parser')\n",
    "ttable = tsoup.find('table', {'summary': 'Layout for forecast information.'})\n",
    "trows = ttable.find_all('tr')"
   ]
  },
  {
   "cell_type": "code",
   "execution_count": 5,
   "id": "a04802e8",
   "metadata": {},
   "outputs": [],
   "source": [
    "ysoup = BeautifulSoup(yesterday_r.content, 'html.parser')\n",
    "ytable = ysoup.find('table', {'summary': 'Layout for forecast information.'})\n",
    "yrows = ytable.find_all('tr')"
   ]
  },
  {
   "cell_type": "code",
   "execution_count": 12,
   "id": "8a493945",
   "metadata": {},
   "outputs": [],
   "source": [
    "data = pd.DataFrame(columns=['Date','Region','Maximum AQI','AQI Value','Air Quality'])\n",
    "\n",
    "data = data.astype({\n",
    "    'Date': 'string',\n",
    "    'Region': 'string',       \n",
    "    'Maximum AQI': 'string',  \n",
    "    'AQI Value': 'string',\n",
    "    'Air Quality': 'string',        \n",
    "})\n",
    "\n",
    "today_df = pd.DataFrame(data)\n",
    "yesterday_df = pd.DataFrame(data)"
   ]
  },
  {
   "cell_type": "code",
   "execution_count": 13,
   "id": "fad5245b",
   "metadata": {},
   "outputs": [],
   "source": [
    "def NYCtoDF(rows_item, dataframe):\n",
    "    for row in rows_item:\n",
    "        strong_tag = row.find('strong')\n",
    "        if strong_tag and \"NYC\" in strong_tag.get_text():\n",
    "            cells = row.find_all('td')\n",
    "            dataframe.loc[0, 'Region'] = cells[0].get_text(strip=True)\n",
    "            dataframe.loc[0, 'Maximum AQI'] = cells[1].get_text(strip=True)\n",
    "            dataframe.loc[0, 'Air Quality'] = cells[2].get_text(strip=True)\n",
    "            return dataframe"
   ]
  },
  {
   "cell_type": "code",
   "execution_count": 14,
   "id": "2093653d",
   "metadata": {},
   "outputs": [],
   "source": [
    "AQItoday = NYCtoDF(trows, today_df)\n",
    "AQItoday.loc[0, 'Date'] = datetime.today().strftime('%Y-%m-%d')\n",
    "AQItoday['AQI Value'] = AQItoday['Maximum AQI'].str.split('(').str[0].astype(float)"
   ]
  },
  {
   "cell_type": "code",
   "execution_count": 12,
   "id": "58c51a41",
   "metadata": {},
   "outputs": [],
   "source": [
    "AQIyesterday = NYCtoDF(yrows, yesterday_df)\n",
    "yesterday = datetime.today() - timedelta(days=1)\n",
    "yesterday = yesterday.strftime('%Y-%m-%d')\n",
    "AQIyesterday.loc[0, 'Date'] = yesterday"
   ]
  },
  {
   "cell_type": "code",
   "execution_count": 15,
   "id": "012df985",
   "metadata": {},
   "outputs": [
    {
     "data": {
      "text/html": [
       "<div>\n",
       "<style scoped>\n",
       "    .dataframe tbody tr th:only-of-type {\n",
       "        vertical-align: middle;\n",
       "    }\n",
       "\n",
       "    .dataframe tbody tr th {\n",
       "        vertical-align: top;\n",
       "    }\n",
       "\n",
       "    .dataframe thead th {\n",
       "        text-align: right;\n",
       "    }\n",
       "</style>\n",
       "<table border=\"1\" class=\"dataframe\">\n",
       "  <thead>\n",
       "    <tr style=\"text-align: right;\">\n",
       "      <th></th>\n",
       "      <th>Date</th>\n",
       "      <th>Region</th>\n",
       "      <th>Maximum AQI</th>\n",
       "      <th>AQI Value</th>\n",
       "      <th>Air Quality</th>\n",
       "    </tr>\n",
       "  </thead>\n",
       "  <tbody>\n",
       "    <tr>\n",
       "      <th>0</th>\n",
       "      <td>2024-12-15</td>\n",
       "      <td>NYC Metro</td>\n",
       "      <td>55(Fine Particles)</td>\n",
       "      <td>55.0</td>\n",
       "      <td>Moderate</td>\n",
       "    </tr>\n",
       "  </tbody>\n",
       "</table>\n",
       "</div>"
      ],
      "text/plain": [
       "         Date     Region         Maximum AQI  AQI Value Air Quality\n",
       "0  2024-12-15  NYC Metro  55(Fine Particles)       55.0    Moderate"
      ]
     },
     "execution_count": 15,
     "metadata": {},
     "output_type": "execute_result"
    }
   ],
   "source": [
    "AQItoday"
   ]
  },
  {
   "cell_type": "code",
   "execution_count": 14,
   "id": "c58d5615",
   "metadata": {},
   "outputs": [
    {
     "data": {
      "text/html": [
       "<div>\n",
       "<style scoped>\n",
       "    .dataframe tbody tr th:only-of-type {\n",
       "        vertical-align: middle;\n",
       "    }\n",
       "\n",
       "    .dataframe tbody tr th {\n",
       "        vertical-align: top;\n",
       "    }\n",
       "\n",
       "    .dataframe thead th {\n",
       "        text-align: right;\n",
       "    }\n",
       "</style>\n",
       "<table border=\"1\" class=\"dataframe\">\n",
       "  <thead>\n",
       "    <tr style=\"text-align: right;\">\n",
       "      <th></th>\n",
       "      <th>Date</th>\n",
       "      <th>Region</th>\n",
       "      <th>Maximum AQI</th>\n",
       "      <th>Air Quality</th>\n",
       "    </tr>\n",
       "  </thead>\n",
       "  <tbody>\n",
       "    <tr>\n",
       "      <th>0</th>\n",
       "      <td>2024-09-18</td>\n",
       "      <td>NYC Metro</td>\n",
       "      <td>46(Fine Particles)</td>\n",
       "      <td>Good</td>\n",
       "    </tr>\n",
       "  </tbody>\n",
       "</table>\n",
       "</div>"
      ],
      "text/plain": [
       "         Date     Region         Maximum AQI Air Quality\n",
       "0  2024-09-18  NYC Metro  46(Fine Particles)        Good"
      ]
     },
     "execution_count": 14,
     "metadata": {},
     "output_type": "execute_result"
    }
   ],
   "source": [
    "AQIyesterday"
   ]
  },
  {
   "cell_type": "code",
   "execution_count": null,
   "id": "fffc9139",
   "metadata": {},
   "outputs": [],
   "source": []
  }
 ],
 "metadata": {
  "kernelspec": {
   "display_name": "Python [conda env:base] *",
   "language": "python",
   "name": "conda-base-py"
  },
  "language_info": {
   "codemirror_mode": {
    "name": "ipython",
    "version": 3
   },
   "file_extension": ".py",
   "mimetype": "text/x-python",
   "name": "python",
   "nbconvert_exporter": "python",
   "pygments_lexer": "ipython3",
   "version": "3.9.21"
  }
 },
 "nbformat": 4,
 "nbformat_minor": 5
}
